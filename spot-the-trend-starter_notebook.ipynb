{
 "cells": [
  {
   "cell_type": "markdown",
   "metadata": {},
   "source": [
    "# Onward Challenge - Starter Notebook"
   ]
  },
  {
   "cell_type": "markdown",
   "metadata": {},
   "source": [
    "Welcome to the Sirius Challenge, which explores the world of oil and gas production. For this challenge, data are bottom hole pressure time series from oil and gas wells. Bottom hole pressures are key metrics in energy production, as they document the pressures present deep within the earth's subsurface reservoirs. These pressures in turn help characterize the interactions between rock formations and the fluids moving within them. By monitoring and analyzing bottom hole pressures, we can optimize well design, production rates, and maximize the fluid recovery from each well. Understanding and monitoring these pressures also helps us detect for wellbore instability or formation damage. This helps us safeguard personnel, protect the environment, and mitigate potential hazards.\n",
    "\n",
    "The data contains measurements of the pressure at the bottom of each well in one minute intervals. These data show how the pressure in each well changes when they are opened and closed (flowing and shut in, respectively) over time. For producing wells, pressures generally rise while shut in, and decrease while flowing. Due to sensor errors some of the data in the time series are erroneous or missing.\n",
    "\n",
    "This challenge asks you to build a model to predict if a well is flowing or shut in. That is to say, the time intervals in which they occur. The model should take into account the shape of the time series, and the pressure values over time. Keep in mind that we consider producing and injecting wells, so increases or decreases must be identified depending on the case.\n",
    "\n",
    "For more context see the Challenge Outline.\n",
    "\n",
    "Through this notebook we will guide you through the data, the functions and classes we built for you, and the way you should approach the challenge. We'll begin with an introduction to the data and concepts involved. Then, we'll delve into exploring existing predictions and how to make your own informed guesses. The heart of the document will focus on building and using predictive models to infer shut-in time intervals. Next, you'll learn about generating submission files, the format used to present your predictions for evaluation. After that, we'll explore the evaluation procedure of submisions and, finally, the document will showcase examples of how this evaluation is used to assess the quality of your predictions.\n",
    "\n",
    "Code for classes and functions are available in the `utils.py` file. For your solution to be accepted, you should use these classes and function. In particular, you should pay attention to the generation of submissions."
   ]
  },
  {
   "cell_type": "markdown",
   "metadata": {},
   "source": [
    "# Table of Contents:\n",
    "## [1. Introduction](#first-bullet)\n",
    "### [1.1. Supplied Materials](##)\n",
    "### [1.2. Imports](##)\n",
    "### [1.3. Exploration of train data and labels](##)\n",
    "## [2. Exploration of predictions](#second-bullet)\n",
    "### [2.1. Baseline predictions](##)\n",
    "### [2.2. Illustrative predictions](##)\n",
    "## [3. Building and using predictive models](#third-bullet)\n",
    "### [3.1. Training](##)\n",
    "### [3.2. Predicting](##)\n",
    "## [4. Generation of submission files](#fourth-bullet)\n",
    "## [5. Evaluation procedure](#fifth-bullet)\n",
    "### [5.1. Baseline and illustrative predictions](##)\n",
    "### [5.2. List of predictions](##)\n",
    "## [6. Examples of evaluations](#sixth-bullet)"
   ]
  },
  {
   "cell_type": "markdown",
   "metadata": {},
   "source": [
    "# 1. Introduction"
   ]
  },
  {
   "cell_type": "markdown",
   "metadata": {},
   "source": [
    "Well dynamics are represented by a one-dimensional time series sampled at one-minute intervals and where the feature `y`, represents the bottom hole pressure value. The target feature is the list of time intervals $\\{[start_1,stop_1),[start_2,stop_2),\\ldots\\}$ in which the well is shut in.\n",
    "\n",
    "Given a time series $data$ of a well, a `prediction` is a list of time intervals inferred to be the label (target value) for that well. Thus, the challenge objective is to predict the shut-in labels. \n",
    "\n",
    "To do this, you have labeled time-series data points and the ground truth labels to train and validate a predictive model. That is to say, you have access to the train data and train labels. Note that a ground truth label is a list of intervals.\n",
    "\n",
    "While the challenge is open you will be able to also access test data, but not the labels of these. We will use the labels to evaluate your predictions."
   ]
  },
  {
   "cell_type": "markdown",
   "metadata": {},
   "source": [
    "## 1.1 Supplied Materials:"
   ]
  },
  {
   "cell_type": "markdown",
   "metadata": {},
   "source": [
    "* Starter Notebook\n",
    "* Train data and labels: data/train/ \n",
    "* Examples of baseline results: data/baseline_intervals/\n",
    "* Submission examples: sample_submissions/\n",
    "* `utils.py` script containing helpful functions\n",
    "* `requirements.txt` for all required packages"
   ]
  },
  {
   "cell_type": "markdown",
   "metadata": {},
   "source": [
    "## 1.2. Imports"
   ]
  },
  {
   "cell_type": "code",
   "execution_count": 1,
   "metadata": {
    "scrolled": true
   },
   "outputs": [],
   "source": [
    "# ONLY RUN THIS CELL ONCE\n",
    "# !pip install -r requirements.txt"
   ]
  },
  {
   "cell_type": "code",
   "execution_count": 2,
   "metadata": {},
   "outputs": [],
   "source": [
    "import pandas as pd\n",
    "import numpy as np\n",
    "import matplotlib.pyplot as plt\n",
    "from scipy.signal import find_peaks\n",
    "from utils import *\n",
    "import os"
   ]
  },
  {
   "cell_type": "markdown",
   "metadata": {},
   "source": [
    "## 1.3. Exploration of train data and labels"
   ]
  },
  {
   "cell_type": "markdown",
   "metadata": {},
   "source": [
    "Let's explore `data/train`. The dataset provided for this challenge consists of time series bottom hole pressures, `name.csv` and the associated ground truth labels `name_intervals.csv`. We included 200 of these pairs of files, each one with a different name.\n",
    "\n",
    "Each file `name.csv` stores the one-dimensional time series with the feature `y` as explained above.\n",
    "Each file `data_intervals.csv` has columns start and stop that, for each row represent a time interval of the ground truth label. "
   ]
  },
  {
   "cell_type": "markdown",
   "metadata": {},
   "source": [
    "We will review data of `example1` and `example2`"
   ]
  },
  {
   "cell_type": "markdown",
   "metadata": {},
   "source": [
    "### Example 1"
   ]
  },
  {
   "cell_type": "code",
   "execution_count": 3,
   "metadata": {},
   "outputs": [],
   "source": [
    "# read the data file\n",
    "example1 = pd.read_csv(\"data/train/example1.csv\",sep=\"\\t\")"
   ]
  },
  {
   "cell_type": "code",
   "execution_count": 4,
   "metadata": {},
   "outputs": [],
   "source": [
    "# adjust the format\n",
    "example1 = example1[['time','y']]"
   ]
  },
  {
   "cell_type": "code",
   "execution_count": 5,
   "metadata": {},
   "outputs": [
    {
     "name": "stdout",
     "output_type": "stream",
     "text": [
      "<class 'pandas.core.frame.DataFrame'>\n",
      "RangeIndex: 1576800 entries, 0 to 1576799\n",
      "Data columns (total 2 columns):\n",
      " #   Column  Non-Null Count    Dtype  \n",
      "---  ------  --------------    -----  \n",
      " 0   time    1576800 non-null  float64\n",
      " 1   y       1576703 non-null  float64\n",
      "dtypes: float64(2)\n",
      "memory usage: 24.1 MB\n"
     ]
    }
   ],
   "source": [
    "# general information\n",
    "example1.info()"
   ]
  },
  {
   "cell_type": "code",
   "execution_count": 6,
   "metadata": {},
   "outputs": [
    {
     "data": {
      "text/html": [
       "<div>\n",
       "<style scoped>\n",
       "    .dataframe tbody tr th:only-of-type {\n",
       "        vertical-align: middle;\n",
       "    }\n",
       "\n",
       "    .dataframe tbody tr th {\n",
       "        vertical-align: top;\n",
       "    }\n",
       "\n",
       "    .dataframe thead th {\n",
       "        text-align: right;\n",
       "    }\n",
       "</style>\n",
       "<table border=\"1\" class=\"dataframe\">\n",
       "  <thead>\n",
       "    <tr style=\"text-align: right;\">\n",
       "      <th></th>\n",
       "      <th>time</th>\n",
       "      <th>y</th>\n",
       "    </tr>\n",
       "  </thead>\n",
       "  <tbody>\n",
       "    <tr>\n",
       "      <th>count</th>\n",
       "      <td>1.576800e+06</td>\n",
       "      <td>1.576703e+06</td>\n",
       "    </tr>\n",
       "    <tr>\n",
       "      <th>mean</th>\n",
       "      <td>7.883995e+05</td>\n",
       "      <td>2.047104e+03</td>\n",
       "    </tr>\n",
       "    <tr>\n",
       "      <th>std</th>\n",
       "      <td>4.551831e+05</td>\n",
       "      <td>7.739114e+02</td>\n",
       "    </tr>\n",
       "    <tr>\n",
       "      <th>min</th>\n",
       "      <td>0.000000e+00</td>\n",
       "      <td>1.100100e+03</td>\n",
       "    </tr>\n",
       "    <tr>\n",
       "      <th>25%</th>\n",
       "      <td>3.941998e+05</td>\n",
       "      <td>1.332429e+03</td>\n",
       "    </tr>\n",
       "    <tr>\n",
       "      <th>50%</th>\n",
       "      <td>7.883995e+05</td>\n",
       "      <td>1.905019e+03</td>\n",
       "    </tr>\n",
       "    <tr>\n",
       "      <th>75%</th>\n",
       "      <td>1.182599e+06</td>\n",
       "      <td>2.660313e+03</td>\n",
       "    </tr>\n",
       "    <tr>\n",
       "      <th>max</th>\n",
       "      <td>1.576799e+06</td>\n",
       "      <td>3.846706e+03</td>\n",
       "    </tr>\n",
       "  </tbody>\n",
       "</table>\n",
       "</div>"
      ],
      "text/plain": [
       "               time             y\n",
       "count  1.576800e+06  1.576703e+06\n",
       "mean   7.883995e+05  2.047104e+03\n",
       "std    4.551831e+05  7.739114e+02\n",
       "min    0.000000e+00  1.100100e+03\n",
       "25%    3.941998e+05  1.332429e+03\n",
       "50%    7.883995e+05  1.905019e+03\n",
       "75%    1.182599e+06  2.660313e+03\n",
       "max    1.576799e+06  3.846706e+03"
      ]
     },
     "execution_count": 6,
     "metadata": {},
     "output_type": "execute_result"
    }
   ],
   "source": [
    "# display data info\n",
    "# summary\n",
    "example1.describe()"
   ]
  },
  {
   "cell_type": "code",
   "execution_count": 7,
   "metadata": {},
   "outputs": [
    {
     "data": {
      "text/plain": [
       "(1576800, 2)"
      ]
     },
     "execution_count": 7,
     "metadata": {},
     "output_type": "execute_result"
    }
   ],
   "source": [
    "# data dimensions\n",
    "example1.shape"
   ]
  },
  {
   "cell_type": "code",
   "execution_count": 8,
   "metadata": {},
   "outputs": [],
   "source": [
    "# Reading ground truth label\n",
    "example1_ground_truth_label = pd.read_csv(\"data/train/example1_intervals.csv\")"
   ]
  },
  {
   "cell_type": "code",
   "execution_count": 9,
   "metadata": {},
   "outputs": [],
   "source": [
    "# Converting into a list of intervals\n",
    "example1_ground_truth_label = list(zip(example1_ground_truth_label.start,example1_ground_truth_label.stop))"
   ]
  },
  {
   "cell_type": "code",
   "execution_count": 10,
   "metadata": {
    "scrolled": true
   },
   "outputs": [
    {
     "data": {
      "text/plain": [
       "[(55613, 90222),\n",
       " (101241, 101544),\n",
       " (256613, 296764),\n",
       " (347872, 391785),\n",
       " (401269, 401475),\n",
       " (527030, 568054),\n",
       " (649037, 688258),\n",
       " (741955, 802294),\n",
       " (828360, 865777),\n",
       " (992950, 1019856),\n",
       " (1135027, 1180801),\n",
       " (1250239, 1250499),\n",
       " (1460336, 1520206)]"
      ]
     },
     "execution_count": 10,
     "metadata": {},
     "output_type": "execute_result"
    }
   ],
   "source": [
    "example1_ground_truth_label"
   ]
  },
  {
   "cell_type": "markdown",
   "metadata": {},
   "source": [
    "Visualization of the time series and the ground truth label: `y` over time, $(time,y)$ points with $time$ belonging to the groud truth label (list of intervals) in red color."
   ]
  },
  {
   "cell_type": "code",
   "execution_count": 11,
   "metadata": {},
   "outputs": [
    {
     "data": {
      "image/png": "[encoded data removed]",
      "text/plain": [
       "<Figure size 640x480 with 1 Axes>"
      ]
     },
     "metadata": {},
     "output_type": "display_data"
    }
   ],
   "source": [
    "# Visualization of data and ground truth label\n",
    "plot_well(example1_ground_truth_label,example1,title=\"Data and label, example 1\",s=0.001)"
   ]
  },
  {
   "cell_type": "markdown",
   "metadata": {},
   "source": [
    "We observe the behavior for `y` with and without `example1_ground_truth_label`. The 13 time intervals are highlighted in red."
   ]
  },
  {
   "cell_type": "markdown",
   "metadata": {},
   "source": [
    "### Example 2"
   ]
  },
  {
   "cell_type": "code",
   "execution_count": 12,
   "metadata": {},
   "outputs": [],
   "source": [
    "# read the data file\n",
    "example2 = pd.read_csv(\"data/train/example2.csv\",sep=\"\\t\")"
   ]
  },
  {
   "cell_type": "code",
   "execution_count": 13,
   "metadata": {},
   "outputs": [],
   "source": [
    "# adjust the format\n",
    "example2 = example2[['time','y']]"
   ]
  },
  {
   "cell_type": "code",
   "execution_count": 14,
   "metadata": {},
   "outputs": [
    {
     "name": "stdout",
     "output_type": "stream",
     "text": [
      "<class 'pandas.core.frame.DataFrame'>\n",
      "RangeIndex: 1576800 entries, 0 to 1576799\n",
      "Data columns (total 2 columns):\n",
      " #   Column  Non-Null Count    Dtype  \n",
      "---  ------  --------------    -----  \n",
      " 0   time    1576800 non-null  float64\n",
      " 1   y       1201702 non-null  float64\n",
      "dtypes: float64(2)\n",
      "memory usage: 24.1 MB\n"
     ]
    }
   ],
   "source": [
    "# General information\n",
    "example2.info()"
   ]
  },
  {
   "cell_type": "code",
   "execution_count": 15,
   "metadata": {},
   "outputs": [
    {
     "data": {
      "text/html": [
       "<div>\n",
       "<style scoped>\n",
       "    .dataframe tbody tr th:only-of-type {\n",
       "        vertical-align: middle;\n",
       "    }\n",
       "\n",
       "    .dataframe tbody tr th {\n",
       "        vertical-align: top;\n",
       "    }\n",
       "\n",
       "    .dataframe thead th {\n",
       "        text-align: right;\n",
       "    }\n",
       "</style>\n",
       "<table border=\"1\" class=\"dataframe\">\n",
       "  <thead>\n",
       "    <tr style=\"text-align: right;\">\n",
       "      <th></th>\n",
       "      <th>time</th>\n",
       "      <th>y</th>\n",
       "    </tr>\n",
       "  </thead>\n",
       "  <tbody>\n",
       "    <tr>\n",
       "      <th>count</th>\n",
       "      <td>1.576800e+06</td>\n",
       "      <td>1.201702e+06</td>\n",
       "    </tr>\n",
       "    <tr>\n",
       "      <th>mean</th>\n",
       "      <td>7.883995e+05</td>\n",
       "      <td>3.858864e+03</td>\n",
       "    </tr>\n",
       "    <tr>\n",
       "      <th>std</th>\n",
       "      <td>4.551831e+05</td>\n",
       "      <td>1.830507e+03</td>\n",
       "    </tr>\n",
       "    <tr>\n",
       "      <th>min</th>\n",
       "      <td>0.000000e+00</td>\n",
       "      <td>2.784995e+02</td>\n",
       "    </tr>\n",
       "    <tr>\n",
       "      <th>25%</th>\n",
       "      <td>3.941998e+05</td>\n",
       "      <td>1.926827e+03</td>\n",
       "    </tr>\n",
       "    <tr>\n",
       "      <th>50%</th>\n",
       "      <td>7.883995e+05</td>\n",
       "      <td>4.211252e+03</td>\n",
       "    </tr>\n",
       "    <tr>\n",
       "      <th>75%</th>\n",
       "      <td>1.182599e+06</td>\n",
       "      <td>5.304553e+03</td>\n",
       "    </tr>\n",
       "    <tr>\n",
       "      <th>max</th>\n",
       "      <td>1.576799e+06</td>\n",
       "      <td>7.145876e+03</td>\n",
       "    </tr>\n",
       "  </tbody>\n",
       "</table>\n",
       "</div>"
      ],
      "text/plain": [
       "               time             y\n",
       "count  1.576800e+06  1.201702e+06\n",
       "mean   7.883995e+05  3.858864e+03\n",
       "std    4.551831e+05  1.830507e+03\n",
       "min    0.000000e+00  2.784995e+02\n",
       "25%    3.941998e+05  1.926827e+03\n",
       "50%    7.883995e+05  4.211252e+03\n",
       "75%    1.182599e+06  5.304553e+03\n",
       "max    1.576799e+06  7.145876e+03"
      ]
     },
     "execution_count": 15,
     "metadata": {},
     "output_type": "execute_result"
    }
   ],
   "source": [
    "# display data info\n",
    "# summary\n",
    "example2.describe()"
   ]
  },
  {
   "cell_type": "code",
   "execution_count": 16,
   "metadata": {},
   "outputs": [
    {
     "data": {
      "text/plain": [
       "(1576800, 2)"
      ]
     },
     "execution_count": 16,
     "metadata": {},
     "output_type": "execute_result"
    }
   ],
   "source": [
    "# data dimensions\n",
    "example2.shape"
   ]
  },
  {
   "cell_type": "code",
   "execution_count": 17,
   "metadata": {},
   "outputs": [],
   "source": [
    "# Reading ground truth label\n",
    "example2_ground_truth_label = pd.read_csv(\"data/train/example2_intervals.csv\")"
   ]
  },
  {
   "cell_type": "code",
   "execution_count": 18,
   "metadata": {},
   "outputs": [],
   "source": [
    "# Coverting into a list of intervals\n",
    "example2_ground_truth_label = list(zip(example2_ground_truth_label.start,example2_ground_truth_label.stop))"
   ]
  },
  {
   "cell_type": "code",
   "execution_count": 19,
   "metadata": {},
   "outputs": [
    {
     "data": {
      "text/plain": [
       "[(38942, 70899),\n",
       " (101261, 101574),\n",
       " (246391, 292265),\n",
       " (326942, 354777),\n",
       " (452226, 503362),\n",
       " (528543, 584561),\n",
       " (601308, 601638),\n",
       " (727945, 754252),\n",
       " (845021, 905489),\n",
       " (989331, 1046260),\n",
       " (1147420, 1187292),\n",
       " (1307377, 1338467),\n",
       " (1454845, 1505710)]"
      ]
     },
     "execution_count": 19,
     "metadata": {},
     "output_type": "execute_result"
    }
   ],
   "source": [
    "example2_ground_truth_label"
   ]
  },
  {
   "cell_type": "markdown",
   "metadata": {},
   "source": [
    "Visualization of the time series and the ground truth label: `y` over time, $(time,y)$ points with $time$ belonging to the groud truth label (list of intervals) in red color."
   ]
  },
  {
   "cell_type": "code",
   "execution_count": 20,
   "metadata": {},
   "outputs": [
    {
     "data": {
      "image/png": "[encoded data removed]",
      "text/plain": [
       "<Figure size 640x480 with 1 Axes>"
      ]
     },
     "metadata": {},
     "output_type": "display_data"
    }
   ],
   "source": [
    "# Visualization of data and actual intervals: y over time, red color within shut in intervals\n",
    "plot_well(example2_ground_truth_label,example2,title=\"Data and label, example 2\",s=0.001)"
   ]
  },
  {
   "cell_type": "markdown",
   "metadata": {},
   "source": [
    "We observe the behavior for `y` with and without `example2_ground_truth_label`. The 13 time intervals are highlighted in red. The noise we see outside the `example2_ground_truth_label` intervals is higher than in the previous example."
   ]
  },
  {
   "cell_type": "markdown",
   "metadata": {},
   "source": [
    "# 2. Exploration of predictions"
   ]
  },
  {
   "cell_type": "markdown",
   "metadata": {},
   "source": [
    "## 2.1. Baseline predictions"
   ]
  },
  {
   "cell_type": "markdown",
   "metadata": {},
   "source": [
    "### Exploration of baseline solutions"
   ]
  },
  {
   "cell_type": "markdown",
   "metadata": {},
   "source": [
    "Let's explore some baseline predictions; that is to say, a previously found list of shut-in intervals for example 1 and example 2. We illustrate them by the same `plot_well` function we used before.\n",
    "\n",
    "Folder `data/baseline_intervals/` contains baseline predictions `example1_baseline_prediction.csv`. These are a list of time intervals with the same format of the actual list of intervals."
   ]
  },
  {
   "cell_type": "markdown",
   "metadata": {},
   "source": [
    "### Example 1"
   ]
  },
  {
   "cell_type": "code",
   "execution_count": 21,
   "metadata": {},
   "outputs": [],
   "source": [
    "# Reading prediction from baseline prediction\n",
    "example1_baseline_prediction = pd.read_csv(\"data/baseline_intervals/example1_baseline_prediction.csv\")"
   ]
  },
  {
   "cell_type": "code",
   "execution_count": 22,
   "metadata": {},
   "outputs": [],
   "source": [
    "# Converting into a list of intervals\n",
    "example1_baseline_prediction = list(zip(example1_baseline_prediction.start,example1_baseline_prediction.stop))"
   ]
  },
  {
   "cell_type": "markdown",
   "metadata": {},
   "source": [
    "Visualization of the time series and the ground truth label: 'y' over time, $(time,y)$ points with $time$ belonging to 'example1_baseline_prediction' in red color."
   ]
  },
  {
   "cell_type": "code",
   "execution_count": 23,
   "metadata": {
    "scrolled": true
   },
   "outputs": [
    {
     "data": {
      "image/png": "[encoded data removed]",
      "text/plain": [
       "<Figure size 640x480 with 1 Axes>"
      ]
     },
     "metadata": {},
     "output_type": "display_data"
    }
   ],
   "source": [
    "# Visualization of the data and baseline prediction: y over time, red color within \"baseline-predicted\" shut in intervals  \n",
    "plot_well(example1_baseline_prediction,example1,title=\"Example 1, baseline prediction\",s=0.01)"
   ]
  },
  {
   "cell_type": "markdown",
   "metadata": {},
   "source": [
    "Note that only the first 3 intervals were identified"
   ]
  },
  {
   "cell_type": "markdown",
   "metadata": {},
   "source": [
    "We can access the predicted interval"
   ]
  },
  {
   "cell_type": "code",
   "execution_count": 24,
   "metadata": {},
   "outputs": [
    {
     "data": {
      "text/plain": [
       "[(55612, 90222), (101240, 101544), (256612, 296764)]"
      ]
     },
     "execution_count": 24,
     "metadata": {},
     "output_type": "execute_result"
    }
   ],
   "source": [
    "example1_baseline_prediction"
   ]
  },
  {
   "cell_type": "markdown",
   "metadata": {},
   "source": [
    "### Example 2"
   ]
  },
  {
   "cell_type": "code",
   "execution_count": 25,
   "metadata": {},
   "outputs": [],
   "source": [
    "# Reading prediction from baseline prediction\n",
    "example2_baseline_prediction = pd.read_csv(\"data/baseline_intervals/example2_baseline_prediction.csv\")"
   ]
  },
  {
   "cell_type": "code",
   "execution_count": 26,
   "metadata": {},
   "outputs": [],
   "source": [
    "# Converting into a list of intervals\n",
    "example2_baseline_prediction = list(zip(example2_baseline_prediction.start,example2_baseline_prediction.stop))"
   ]
  },
  {
   "cell_type": "markdown",
   "metadata": {},
   "source": [
    "Visualization of the time series and the ground truth label: `y` over time, $(time,y)$ points with $time$ belonging to 'example2_baseline_prediction' in red color."
   ]
  },
  {
   "cell_type": "code",
   "execution_count": 27,
   "metadata": {
    "scrolled": true
   },
   "outputs": [
    {
     "data": {
      "image/png": "[encoded data removed]",
      "text/plain": [
       "<Figure size 640x480 with 1 Axes>"
      ]
     },
     "metadata": {},
     "output_type": "display_data"
    }
   ],
   "source": [
    "# Visualization of the data and baseline prediction: y over time, red color within \"baseline-predicted\" shut in intervals  \n",
    "plot_well(example2_baseline_prediction,example2,title=\"Example 2, baseline prediction\",s=0.01)"
   ]
  },
  {
   "cell_type": "markdown",
   "metadata": {},
   "source": [
    "Note that the first six intervals were not identified"
   ]
  },
  {
   "cell_type": "markdown",
   "metadata": {},
   "source": [
    "## 2.2. Exploration of illustrative predictions "
   ]
  },
  {
   "cell_type": "markdown",
   "metadata": {},
   "source": [
    "### Example 1"
   ]
  },
  {
   "cell_type": "markdown",
   "metadata": {},
   "source": [
    "An illustrative prediction:\n",
    "List of intervals directly created"
   ]
  },
  {
   "cell_type": "code",
   "execution_count": 28,
   "metadata": {},
   "outputs": [],
   "source": [
    "example1_illustrative_prediction= [(55000,100000),(255000,400000),(525000,865000),(990000,1020000),(1135000,1250000),(1460000,1500000)]"
   ]
  },
  {
   "cell_type": "markdown",
   "metadata": {},
   "source": [
    "Visualization of the time series and the ground truth label: `y` over time, $(time,y)$ points with $time$ belonging to `example1_illustrative_prediction` in red color."
   ]
  },
  {
   "cell_type": "code",
   "execution_count": 29,
   "metadata": {},
   "outputs": [
    {
     "data": {
      "image/png": "[encoded data removed]",
      "text/plain": [
       "<Figure size 640x480 with 1 Axes>"
      ]
     },
     "metadata": {},
     "output_type": "display_data"
    }
   ],
   "source": [
    "# Visualization of the data and an illustrative prediction: y over time, red color within predicted shut in intervals\n",
    "plot_well(example1_illustrative_prediction,example1,title=\"Example 1, an ilustrative prediction\",s=0.01)"
   ]
  },
  {
   "cell_type": "markdown",
   "metadata": {},
   "source": [
    "This prediction identifies more intervals but combines four of them"
   ]
  },
  {
   "cell_type": "markdown",
   "metadata": {},
   "source": [
    "Note that `plot_well` allows you generate diagrams for particular time ranges. \n",
    "Be careful to select the proper value for `s`, the higher the `s` value the greater the zoom."
   ]
  },
  {
   "cell_type": "code",
   "execution_count": 30,
   "metadata": {
    "scrolled": true
   },
   "outputs": [
    {
     "data": {
      "image/png": "[encoded data removed]",
      "text/plain": [
       "<Figure size 640x480 with 1 Axes>"
      ]
     },
     "metadata": {},
     "output_type": "display_data"
    }
   ],
   "source": [
    "# Visualization of the data and an illustrative prediction: y over time, red color within predicted shut in intervals \n",
    "# zoom to [450000,900000] \n",
    "plot_well(example1_illustrative_prediction,example1,start=450000,end=900000, title=\"Example 1, another ilustrative prediction with zoom to [450000,900000]\",s=0.1)"
   ]
  },
  {
   "cell_type": "markdown",
   "metadata": {},
   "source": [
    "### Example 2 "
   ]
  },
  {
   "cell_type": "markdown",
   "metadata": {},
   "source": [
    "An illustrative prediction"
   ]
  },
  {
   "cell_type": "code",
   "execution_count": 31,
   "metadata": {},
   "outputs": [],
   "source": [
    "# Reading prediction from baseline intervals\n",
    "example2_illustrative_prediction1 = pd.read_csv(\"data/baseline_intervals/example2_prediction2.csv\")"
   ]
  },
  {
   "cell_type": "code",
   "execution_count": 32,
   "metadata": {},
   "outputs": [],
   "source": [
    "# Converting into a list of intervals\n",
    "example2_illustrative_prediction1 = list(zip(example2_illustrative_prediction1.start,example2_illustrative_prediction1.stop))"
   ]
  },
  {
   "cell_type": "code",
   "execution_count": 33,
   "metadata": {
    "scrolled": true
   },
   "outputs": [
    {
     "data": {
      "image/png": "[encoded data removed]",
      "text/plain": [
       "<Figure size 640x480 with 1 Axes>"
      ]
     },
     "metadata": {},
     "output_type": "display_data"
    }
   ],
   "source": [
    "# Visualization of the data and ilustrative prediction: y over time, red color within predicted shut in intervals\n",
    "plot_well(example2_illustrative_prediction1,example2,title=\"Example 2, ilustrative prediction\",s=0.01)"
   ]
  },
  {
   "cell_type": "markdown",
   "metadata": {},
   "source": [
    "More intervals seem to be identified"
   ]
  },
  {
   "cell_type": "markdown",
   "metadata": {},
   "source": [
    "Another illustrative prediction: A list of intervals created directly "
   ]
  },
  {
   "cell_type": "code",
   "execution_count": 34,
   "metadata": {},
   "outputs": [],
   "source": [
    "example2_solution_intervals3= [(250000.0, 400000),[450000,550000], [599000,602000],\n",
    " (730000.0, 755000),\n",
    " (845020.0, 905489),\n",
    " (989330.0, 1046260),\n",
    " (1147418.0, 1187292),\n",
    " (1307376.0, 1338467),\n",
    " (1454844.0, 1505710)]"
   ]
  },
  {
   "cell_type": "code",
   "execution_count": 35,
   "metadata": {
    "scrolled": true
   },
   "outputs": [
    {
     "data": {
      "image/png": "[encoded data removed]",
      "text/plain": [
       "<Figure size 640x480 with 1 Axes>"
      ]
     },
     "metadata": {},
     "output_type": "display_data"
    }
   ],
   "source": [
    "# Visualization of the data and another ilustrative prediction: y over time, red color within predicted shut in intervals\n",
    "plot_well(example2_solution_intervals3,example2,title=\"Example 2, another ilustrative prediction\",s=0.01)"
   ]
  },
  {
   "cell_type": "markdown",
   "metadata": {},
   "source": [
    "#  3. Building and using a predictive model"
   ]
  },
  {
   "cell_type": "markdown",
   "metadata": {},
   "source": [
    "## 3.1. Training "
   ]
  },
  {
   "cell_type": "markdown",
   "metadata": {},
   "source": [
    "You can use files in the folder `data/train/` to train and validate a model. \n",
    "You have 200 pairs of well time series files and ground truth label files to do so yourself.\n",
    "\n",
    "As we mentioned before, each `name.csv` time series file matches an unique `name_intervals.csv` label file.\n",
    "\n",
    "You are free to use all provided data, but for the purpose of this starter notebook we will limit it to only two wells, `example1` and `example2`."
   ]
  },
  {
   "cell_type": "markdown",
   "metadata": {},
   "source": [
    "### Preparing training data and ground truth labels"
   ]
  },
  {
   "cell_type": "markdown",
   "metadata": {},
   "source": [
    "We begin with a list of the respective file names and lists of ground truth labels."
   ]
  },
  {
   "cell_type": "code",
   "execution_count": 36,
   "metadata": {},
   "outputs": [],
   "source": [
    "# Time series files:\n",
    "# list [DataFilename1,DataFilename2,...] \n",
    "data_files= [\"data/train/example1.csv\",\"data/train/example2.csv\"]"
   ]
  },
  {
   "cell_type": "code",
   "execution_count": 37,
   "metadata": {},
   "outputs": [],
   "source": [
    "# Ground truth label for example 1 and for example 2\n",
    "ground_truth_labels=[example1_ground_truth_label,example2_ground_truth_label]"
   ]
  },
  {
   "cell_type": "markdown",
   "metadata": {},
   "source": [
    "We created the class `DataObject` for you to use in this challenge.  \n",
    "A `DataObject` instance has the following attributes: name (of the well data file), data (well DataFrame), and two optional ones: actual_intervals and predicted_intervals. Learn more about this class in the `utils.py` file.\n",
    "\n",
    "Thus, given a list of well data filenames a solution is a list of `DataObject` instances, each one with predicted_intervals.\n",
    "\n",
    "Data and ground truth labels will be stored in instances of the DataObject class you created. It allows you to link well data, predicted intervals and actual intervals in case they are known."
   ]
  },
  {
   "cell_type": "markdown",
   "metadata": {},
   "source": [
    "Next, create the list of `DataObject` instances.\n",
    "\n",
    "Instances in `only_train`: \n",
    "1) name='data/train/example1.csv', data=example1, actual_intervals=ground_truth_labels[0]=example1_ground_truth_label\n",
    "2) name='data/train/example2.csv', data=example2, actual_intervals=ground_truth_labels[1]=example2_ground_truth_label"
   ]
  },
  {
   "cell_type": "code",
   "execution_count": 38,
   "metadata": {},
   "outputs": [],
   "source": [
    "# Data with labels:\n",
    "# to apply them predict and evalaute results\n",
    "only_train=add_intervals(data_files,ground_truth_labels,is_actual=True)"
   ]
  },
  {
   "cell_type": "markdown",
   "metadata": {},
   "source": [
    "Now explore `only_train`"
   ]
  },
  {
   "cell_type": "code",
   "execution_count": 39,
   "metadata": {},
   "outputs": [
    {
     "data": {
      "text/plain": [
       "'data/train/example1.csv'"
      ]
     },
     "execution_count": 39,
     "metadata": {},
     "output_type": "execute_result"
    }
   ],
   "source": [
    "only_train[0].name"
   ]
  },
  {
   "cell_type": "code",
   "execution_count": 40,
   "metadata": {},
   "outputs": [
    {
     "data": {
      "text/plain": [
       "'data/train/example2.csv'"
      ]
     },
     "execution_count": 40,
     "metadata": {},
     "output_type": "execute_result"
    }
   ],
   "source": [
    "only_train[1].name"
   ]
  },
  {
   "cell_type": "code",
   "execution_count": 41,
   "metadata": {},
   "outputs": [
    {
     "name": "stdout",
     "output_type": "stream",
     "text": [
      "<class 'pandas.core.frame.DataFrame'>\n",
      "RangeIndex: 1576800 entries, 0 to 1576799\n",
      "Data columns (total 2 columns):\n",
      " #   Column  Non-Null Count    Dtype  \n",
      "---  ------  --------------    -----  \n",
      " 0   time    1576800 non-null  float64\n",
      " 1   y       1576703 non-null  float64\n",
      "dtypes: float64(2)\n",
      "memory usage: 24.1 MB\n"
     ]
    }
   ],
   "source": [
    "only_train[0].data.info()"
   ]
  },
  {
   "cell_type": "code",
   "execution_count": 42,
   "metadata": {},
   "outputs": [
    {
     "name": "stdout",
     "output_type": "stream",
     "text": [
      "<class 'pandas.core.frame.DataFrame'>\n",
      "RangeIndex: 1576800 entries, 0 to 1576799\n",
      "Data columns (total 2 columns):\n",
      " #   Column  Non-Null Count    Dtype  \n",
      "---  ------  --------------    -----  \n",
      " 0   time    1576800 non-null  float64\n",
      " 1   y       1201702 non-null  float64\n",
      "dtypes: float64(2)\n",
      "memory usage: 24.1 MB\n"
     ]
    }
   ],
   "source": [
    "only_train[1].data.info()"
   ]
  },
  {
   "cell_type": "code",
   "execution_count": 43,
   "metadata": {},
   "outputs": [
    {
     "data": {
      "text/plain": [
       "[(55613, 90222),\n",
       " (101241, 101544),\n",
       " (256613, 296764),\n",
       " (347872, 391785),\n",
       " (401269, 401475),\n",
       " (527030, 568054),\n",
       " (649037, 688258),\n",
       " (741955, 802294),\n",
       " (828360, 865777),\n",
       " (992950, 1019856),\n",
       " (1135027, 1180801),\n",
       " (1250239, 1250499),\n",
       " (1460336, 1520206)]"
      ]
     },
     "execution_count": 43,
     "metadata": {},
     "output_type": "execute_result"
    }
   ],
   "source": [
    "only_train[0].actual_intervals"
   ]
  },
  {
   "cell_type": "code",
   "execution_count": 44,
   "metadata": {
    "scrolled": true
   },
   "outputs": [
    {
     "data": {
      "text/plain": [
       "[(38942, 70899),\n",
       " (101261, 101574),\n",
       " (246391, 292265),\n",
       " (326942, 354777),\n",
       " (452226, 503362),\n",
       " (528543, 584561),\n",
       " (601308, 601638),\n",
       " (727945, 754252),\n",
       " (845021, 905489),\n",
       " (989331, 1046260),\n",
       " (1147420, 1187292),\n",
       " (1307377, 1338467),\n",
       " (1454845, 1505710)]"
      ]
     },
     "execution_count": 44,
     "metadata": {},
     "output_type": "execute_result"
    }
   ],
   "source": [
    "only_train[1].actual_intervals"
   ]
  },
  {
   "cell_type": "markdown",
   "metadata": {},
   "source": [
    "### Generating a simple model with a particular approach."
   ]
  },
  {
   "cell_type": "markdown",
   "metadata": {},
   "source": [
    "This model is based on the [find_peaks function](https://docs.scipy.org/doc/scipy/reference/generated/scipy.signal.find_peaks.html)\n",
    "\n",
    "The model is structured as an instance of the class `SimpleModel`, that we created for this example. Learn more about this class in `utils.py`.\n",
    "\n",
    "You can reuse this class to build and use your model, adapting the arguments for the constructor '__init__', as well as the SimpleModel functions `fit` and `predict`.\n",
    "\n",
    "You have a big space to use your creativity in solving this challenge. You can completely change the way the model is trained, exploring different learning approaches"
   ]
  },
  {
   "cell_type": "markdown",
   "metadata": {},
   "source": [
    "#### Initializing the model"
   ]
  },
  {
   "cell_type": "code",
   "execution_count": 45,
   "metadata": {},
   "outputs": [],
   "source": [
    "model=SimpleModel(0,0)"
   ]
  },
  {
   "cell_type": "markdown",
   "metadata": {},
   "source": [
    "Model fitting"
   ]
  },
  {
   "cell_type": "code",
   "execution_count": 46,
   "metadata": {},
   "outputs": [],
   "source": [
    "model.fit(only_train)"
   ]
  },
  {
   "cell_type": "markdown",
   "metadata": {},
   "source": [
    "Printing our model results: model coefficients"
   ]
  },
  {
   "cell_type": "code",
   "execution_count": 47,
   "metadata": {},
   "outputs": [
    {
     "name": "stdout",
     "output_type": "stream",
     "text": [
      "33260.5 84265.58333333333\n"
     ]
    }
   ],
   "source": [
    "print(model.avg_interval_length, model.avg_time_diff)"
   ]
  },
  {
   "cell_type": "markdown",
   "metadata": {},
   "source": [
    "## 3.2. Predicting"
   ]
  },
  {
   "cell_type": "markdown",
   "metadata": {},
   "source": [
    "Now use the trained model to predict labels; that is to say, the lists of intervals.\n",
    "\n",
    "Note that `predict` receives a model, a previously trained instance with the available function `model.predict`, and a list of `DataObject` instances and gives the same list as output, but includes the `predicted_intervals` for each instance (check `predict` in `utils.py`). Note it calls `model.predict` at each `DataObject` instance."
   ]
  },
  {
   "cell_type": "markdown",
   "metadata": {},
   "source": [
    "First, use the model to predict intervals for the same list of `DataObject` instances that were trained, `only_train`."
   ]
  },
  {
   "cell_type": "markdown",
   "metadata": {},
   "source": [
    "Predicting a label, list of intervals, for every instance in `only_train`"
   ]
  },
  {
   "cell_type": "code",
   "execution_count": null,
   "metadata": {},
   "outputs": [],
   "source": [
    "predictionDataObjects=predict(model, only_train)"
   ]
  },
  {
   "cell_type": "markdown",
   "metadata": {},
   "source": [
    "Let's explore the predictions"
   ]
  },
  {
   "cell_type": "code",
   "execution_count": null,
   "metadata": {},
   "outputs": [],
   "source": [
    "# Predicting a label, list of intervals, for every instance in 'only_train'\n",
    "predictionDataObjects=predict(model, only_train)"
   ]
  },
  {
   "cell_type": "markdown",
   "metadata": {},
   "source": [
    "Reviewing prediction for `example1` (first cell of data_files)"
   ]
  },
  {
   "cell_type": "code",
   "execution_count": 50,
   "metadata": {},
   "outputs": [
    {
     "data": {
      "text/plain": [
       "[(87471.0, 101241.0),\n",
       " (229799.0, 294765.0),\n",
       " (294765.0, 347872.0),\n",
       " (347872.0, 419399.0),\n",
       " (419399.0, 506399.0),\n",
       " (506399.0, 568054.0),\n",
       " (568054.0, 623999.0),\n",
       " (623999.0, 688258.0),\n",
       " (688258.0, 741955.0),\n",
       " (741955.0, 865777.0),\n",
       " (865777.0, 873599.0),\n",
       " (992950.0, 1019856.0),\n",
       " (1019856.0, 1117199.0),\n",
       " (1117199.0, 1180801.0),\n",
       " (1180801.0, 1250239.0),\n",
       " (1250239.0, 1355399.0),\n",
       " (1355399.0, 1460336.0),\n",
       " (1460336.0, 1520206.0),\n",
       " (1520206.0, 1520206.0)]"
      ]
     },
     "execution_count": 50,
     "metadata": {},
     "output_type": "execute_result"
    }
   ],
   "source": [
    "predictionDataObjects[0].predicted_intervals"
   ]
  },
  {
   "cell_type": "markdown",
   "metadata": {},
   "source": [
    "Reviewing prediction for example 2 (second cell of `data_files`)"
   ]
  },
  {
   "cell_type": "code",
   "execution_count": 51,
   "metadata": {
    "scrolled": true
   },
   "outputs": [
    {
     "data": {
      "text/plain": [
       "[(64190.0, 101261.0),\n",
       " (256495.0, 344394.0),\n",
       " (344394.0, 374399.0),\n",
       " (374399.0, 503362.0),\n",
       " (503362.0, 528543.0),\n",
       " (528543.0, 620999.0),\n",
       " (620999.0, 674999.0),\n",
       " (674999.0, 752158.0),\n",
       " (752158.0, 793199.0),\n",
       " (793199.0, 905489.0),\n",
       " (905489.0, 934799.0),\n",
       " (934799.0, 1028034.0),\n",
       " (1028034.0, 1147419.0),\n",
       " (1147419.0, 1174667.0),\n",
       " (1174667.0, 1278599.0),\n",
       " (1278599.0, 1334848.0),\n",
       " (1334848.0, 1454399.0),\n",
       " (1454399.0, 1504537.0),\n",
       " (1504537.0, 1574999.0),\n",
       " (1574999.0, 1574999.0)]"
      ]
     },
     "execution_count": 51,
     "metadata": {},
     "output_type": "execute_result"
    }
   ],
   "source": [
    "predictionDataObjects[1].predicted_intervals"
   ]
  },
  {
   "cell_type": "markdown",
   "metadata": {},
   "source": [
    "Now, use the model to predict intervals with another list of `DataObject` instances"
   ]
  },
  {
   "cell_type": "markdown",
   "metadata": {},
   "source": [
    "Files to predict the shut ins"
   ]
  },
  {
   "cell_type": "code",
   "execution_count": 52,
   "metadata": {},
   "outputs": [],
   "source": [
    "data_files_test=['data/train/test1.csv', 'data/train/test2.csv', 'data/train/test3.csv']"
   ]
  },
  {
   "cell_type": "markdown",
   "metadata": {},
   "source": [
    "Create a list of `DataObject` instances to call `predict`.\n",
    "\n",
    "Instances in `only_test`: \n",
    "1) name=''data/train/test1.csv'', data=test1, \n",
    "2) name=''data/train/test2.csv'', data=test2, \n",
    "3) name=''data/train/test3.csv'', data=test3, "
   ]
  },
  {
   "cell_type": "code",
   "execution_count": 53,
   "metadata": {},
   "outputs": [],
   "source": [
    "only_test=[]\n",
    "for i in range(0,len(data_files_test)):\n",
    "    name=data_files_test[i]\n",
    "    data=pd.read_csv(name,sep=\"\\t\")\n",
    "    instance_i=DataObject(name,data)\n",
    "    only_test.append(instance_i)"
   ]
  },
  {
   "cell_type": "markdown",
   "metadata": {},
   "source": [
    "Predicting lists of intervals for these data wells"
   ]
  },
  {
   "cell_type": "code",
   "execution_count": null,
   "metadata": {},
   "outputs": [],
   "source": [
    "predictionDataObjects_test=predict(model, only_test)"
   ]
  },
  {
   "cell_type": "markdown",
   "metadata": {},
   "source": [
    "Let's explore predicted intervals"
   ]
  },
  {
   "cell_type": "code",
   "execution_count": 55,
   "metadata": {},
   "outputs": [
    {
     "data": {
      "text/plain": [
       "[(47996.0, 92203.0),\n",
       " (92203.0, 176766.0),\n",
       " (176766.0, 312599.0),\n",
       " (312599.0, 389349.0),\n",
       " (389349.0, 535199.0),\n",
       " (535199.0, 567263.0),\n",
       " (567263.0, 657092.0),\n",
       " (657092.0, 686999.0),\n",
       " (686999.0, 779399.0),\n",
       " (779399.0, 818838.0),\n",
       " (818838.0, 962336.0),\n",
       " (962336.0, 962441.0),\n",
       " (962441.0, 1087199.0),\n",
       " (1087199.0, 1147307.0),\n",
       " (1147307.0, 1208399.0),\n",
       " (1208399.0, 1281548.0),\n",
       " (1418327.0, 1442999.0),\n",
       " (1442999.0, 1552799.0),\n",
       " (1552799.0, 1565999.0),\n",
       " (1565999.0, 1565999.0)]"
      ]
     },
     "execution_count": 55,
     "metadata": {},
     "output_type": "execute_result"
    }
   ],
   "source": [
    "predictionDataObjects_test[0].predicted_intervals"
   ]
  },
  {
   "cell_type": "code",
   "execution_count": 56,
   "metadata": {},
   "outputs": [
    {
     "data": {
      "text/plain": [
       "[(2399.0, 91955.0),\n",
       " (91955.0, 211799.0),\n",
       " (211799.0, 285673.0),\n",
       " (285673.0, 329999.0),\n",
       " (449399.0, 480433.0),\n",
       " (598718.0, 636599.0),\n",
       " (636599.0, 777853.0),\n",
       " (777853.0, 842999.0),\n",
       " (842999.0, 974131.0),\n",
       " (974131.0, 1028399.0),\n",
       " (1028399.0, 1094999.0),\n",
       " (1094999.0, 1145999.0),\n",
       " (1145999.0, 1265307.0),\n",
       " (1265307.0, 1306799.0),\n",
       " (1306799.0, 1438562.0),\n",
       " (1438562.0, 1449599.0),\n",
       " (1449599.0, 1556399.0),\n",
       " (1556399.0, 1575599.0),\n",
       " (1575599.0, 1575599.0)]"
      ]
     },
     "execution_count": 56,
     "metadata": {},
     "output_type": "execute_result"
    }
   ],
   "source": [
    "predictionDataObjects_test[1].predicted_intervals"
   ]
  },
  {
   "cell_type": "markdown",
   "metadata": {},
   "source": [
    "# 4. Generation of a Submission File"
   ]
  },
  {
   "cell_type": "markdown",
   "metadata": {},
   "source": [
    "To review your results you must submit them in the proper format.\n",
    "The submission is a json file like this $\\{name_1:prediction_1,name_2:predictions_2,\\ldots\\}$\n",
    "For this example, consider only two wells, `example1` and `example2` with respective baseline predictions, but for your submission you have to generate it for the 11 test wells we have provided you.  "
   ]
  },
  {
   "cell_type": "markdown",
   "metadata": {},
   "source": [
    "Starting from a list of `data_files` and another of `predicted_labels`, we build the list of `DataObject` instances including `predicted_intervals` for each instance and, finally, we create the submission in dictionary format and save it into a json file ready for submission"
   ]
  },
  {
   "cell_type": "code",
   "execution_count": 57,
   "metadata": {},
   "outputs": [
    {
     "data": {
      "text/plain": [
       "['data/train/example1.csv', 'data/train/example2.csv']"
      ]
     },
     "execution_count": 57,
     "metadata": {},
     "output_type": "execute_result"
    }
   ],
   "source": [
    "data_files"
   ]
  },
  {
   "cell_type": "code",
   "execution_count": 58,
   "metadata": {},
   "outputs": [],
   "source": [
    "examples1_2_baseline_predictions= [example1_baseline_prediction,example2_baseline_prediction]"
   ]
  },
  {
   "cell_type": "code",
   "execution_count": 59,
   "metadata": {},
   "outputs": [],
   "source": [
    "DataObject_list_examples1_2_baseline_predictions=add_intervals(data_files,examples1_2_baseline_predictions)"
   ]
  },
  {
   "cell_type": "markdown",
   "metadata": {},
   "source": [
    "Let's explore the `DataObject` list, `DataObject_list_examples1_2_baseline_predictions`"
   ]
  },
  {
   "cell_type": "code",
   "execution_count": 60,
   "metadata": {},
   "outputs": [
    {
     "data": {
      "text/plain": [
       "'data/train/example1.csv'"
      ]
     },
     "execution_count": 60,
     "metadata": {},
     "output_type": "execute_result"
    }
   ],
   "source": [
    "DataObject_list_examples1_2_baseline_predictions[0].name"
   ]
  },
  {
   "cell_type": "code",
   "execution_count": 61,
   "metadata": {},
   "outputs": [
    {
     "data": {
      "text/plain": [
       "[(55612, 90222), (101240, 101544), (256612, 296764)]"
      ]
     },
     "execution_count": 61,
     "metadata": {},
     "output_type": "execute_result"
    }
   ],
   "source": [
    "DataObject_list_examples1_2_baseline_predictions[0].predicted_intervals"
   ]
  },
  {
   "cell_type": "code",
   "execution_count": 62,
   "metadata": {},
   "outputs": [
    {
     "data": {
      "text/plain": [
       "'data/train/example2.csv'"
      ]
     },
     "execution_count": 62,
     "metadata": {},
     "output_type": "execute_result"
    }
   ],
   "source": [
    "DataObject_list_examples1_2_baseline_predictions[1].name"
   ]
  },
  {
   "cell_type": "code",
   "execution_count": 63,
   "metadata": {},
   "outputs": [
    {
     "data": {
      "text/plain": [
       "[(601307, 601638),\n",
       " (727944, 754252),\n",
       " (845020, 905489),\n",
       " (989330, 1046260),\n",
       " (1147418, 1187292),\n",
       " (1307376, 1338467),\n",
       " (1454844, 1505710)]"
      ]
     },
     "execution_count": 63,
     "metadata": {},
     "output_type": "execute_result"
    }
   ],
   "source": [
    "DataObject_list_examples1_2_baseline_predictions[1].predicted_intervals"
   ]
  },
  {
   "cell_type": "markdown",
   "metadata": {},
   "source": [
    "You can also use the `add_intervals` function interactively, to add predictions one by one.\n",
    "Here, given the list of `DataObject` instances: `[example_solutions1DataObject_list_examples1_2_baseline_predictions[0]]` registers only the data and prediction for example 1, it adds the data and prediction for the example 2"
   ]
  },
  {
   "cell_type": "code",
   "execution_count": 64,
   "metadata": {},
   "outputs": [],
   "source": [
    "DataObject_list_examples1_2_baseline_predictions_iter=add_intervals([data_files[1]],[examples1_2_baseline_predictions[1]],current_solutions=[DataObject_list_examples1_2_baseline_predictions[0]])"
   ]
  },
  {
   "cell_type": "code",
   "execution_count": 65,
   "metadata": {},
   "outputs": [
    {
     "data": {
      "text/plain": [
       "'data/train/example2.csv'"
      ]
     },
     "execution_count": 65,
     "metadata": {},
     "output_type": "execute_result"
    }
   ],
   "source": [
    "DataObject_list_examples1_2_baseline_predictions_iter[1].name"
   ]
  },
  {
   "cell_type": "code",
   "execution_count": 66,
   "metadata": {},
   "outputs": [
    {
     "data": {
      "text/plain": [
       "[(601307, 601638),\n",
       " (727944, 754252),\n",
       " (845020, 905489),\n",
       " (989330, 1046260),\n",
       " (1147418, 1187292),\n",
       " (1307376, 1338467),\n",
       " (1454844, 1505710)]"
      ]
     },
     "execution_count": 66,
     "metadata": {},
     "output_type": "execute_result"
    }
   ],
   "source": [
    "DataObject_list_examples1_2_baseline_predictions_iter[1].predicted_intervals"
   ]
  },
  {
   "cell_type": "markdown",
   "metadata": {},
   "source": [
    "### Now we create the submission file"
   ]
  },
  {
   "cell_type": "markdown",
   "metadata": {},
   "source": [
    "Step by step:"
   ]
  },
  {
   "cell_type": "markdown",
   "metadata": {},
   "source": [
    "1. Creating the submission dictionary"
   ]
  },
  {
   "cell_type": "code",
   "execution_count": 67,
   "metadata": {
    "scrolled": true
   },
   "outputs": [
    {
     "data": {
      "text/plain": [
       "{'data/train/example1.csv': [(55612, 90222),\n",
       "  (101240, 101544),\n",
       "  (256612, 296764)],\n",
       " 'data/train/example2.csv': [(601307, 601638),\n",
       "  (727944, 754252),\n",
       "  (845020, 905489),\n",
       "  (989330, 1046260),\n",
       "  (1147418, 1187292),\n",
       "  (1307376, 1338467),\n",
       "  (1454844, 1505710)]}"
      ]
     },
     "execution_count": 67,
     "metadata": {},
     "output_type": "execute_result"
    }
   ],
   "source": [
    "submission_dict_examples1_2_baseline_predictions=create_submission_dictionary(DataObject_list_examples1_2_baseline_predictions)\n",
    "submission_dict_examples1_2_baseline_predictions"
   ]
  },
  {
   "cell_type": "markdown",
   "metadata": {},
   "source": [
    "2. Exporting the submission dictionary to a json file"
   ]
  },
  {
   "cell_type": "code",
   "execution_count": 68,
   "metadata": {},
   "outputs": [],
   "source": [
    "save_submission_to_json(submission_dict_examples1_2_baseline_predictions,\"sample_submissions/submission_examples1_2_baseline_predictions.json\")"
   ]
  },
  {
   "cell_type": "markdown",
   "metadata": {},
   "source": [
    "In one command line:"
   ]
  },
  {
   "cell_type": "markdown",
   "metadata": {},
   "source": [
    "The function `save_submission_to_json` allows you generate the json file directly from the list of DataObject instances"
   ]
  },
  {
   "cell_type": "code",
   "execution_count": 69,
   "metadata": {},
   "outputs": [],
   "source": [
    "sample_submission_generator(DataObject_list_examples1_2_baseline_predictions,\"sample_submissions/submission_examples1_2_baseline_predictions.json\")"
   ]
  },
  {
   "cell_type": "markdown",
   "metadata": {},
   "source": [
    "# 5. Evaluation"
   ]
  },
  {
   "cell_type": "markdown",
   "metadata": {},
   "source": [
    "Evaluating the performance of your model is key for your success in this challenge"
   ]
  },
  {
   "cell_type": "markdown",
   "metadata": {},
   "source": [
    "To evaluate your solution's performance, you'll need to submit a JSON file containing the predicted intervals for the test dataset. This submission should be structured as follows `{file_name_1 : [l1, l2, …], file_name_2 : [l1, l2, …]}` in which each `file_name` corresponds to the well name and each predicted_interval li is a tuple in the form `(starti, stopi)`. Evaluation of your submission will use a weighted score:"
   ]
  },
  {
   "cell_type": "markdown",
   "metadata": {},
   "source": [
    "$$ S=\\frac{1\\times IoU+2\\times Start_{error}+3\\times F_{\\beta}}{6}$$"
   ]
  },
  {
   "cell_type": "markdown",
   "metadata": {},
   "source": [
    "where 1, 2, and 3 are the weights for each component, and $\\beta=0.5$ to give more importance to Precision than Recall."
   ]
  },
  {
   "cell_type": "markdown",
   "metadata": {},
   "source": [
    "IoU: is an averaged [intersection over union](https://scikit-learn.org/stable/modules/generated/sklearn.metrics.jaccard_score.html) which compares the total intersections of the length of predicted intervals $l_i$ to the length of total unions $L_i$ across all paired intervals $IoU=\\sum _il_i/\\sum _iL_i$.\n",
    "\n",
    "$F_{Beta}=((1+\\beta ^2)\\times Precison \\times Recall))/(\\beta ^2\\times Precison + Recall)$.\n",
    "\n",
    "Recall is the recall rate, which in this case is the number of predicted shut-ins that match actual shut-ins divided by the number of actual shut-ins. Precision is the precision, which is the number of predicted shut-ins that match actual shut-ins divided by the number of predictions. \n",
    "\n",
    "$Start_{error}$: is an exponential decay of the time between the predicted shut-in start and the actual shut-in start $|true_{start}- predicted_{start}|$, where $true_{start}$ is the actual shut-in start time, $predicted_start$ is the predicted shut-in start time, n is the number of shut-ins, and $\\tau=5$ if $predicted_{start} > true_{start}$ and $\\tau=10$ otherwise."
   ]
  },
  {
   "cell_type": "markdown",
   "metadata": {},
   "source": [
    "As shown in previous block, we've included a `sample_submission_generator()` function in the `utils.py` module that generates and saves a sample submission file in JSON format, illustrating the expected format. Additionally, you'll find a sample submission files in the sample_submissions folder. For your submission to be correly analyzed it must adhere to this format. It will be rejected if not."
   ]
  },
  {
   "cell_type": "markdown",
   "metadata": {},
   "source": [
    "Here is a guide to evaluate the performance of your model using this scoring metric.\n",
    "\n",
    "First we evaluate an individual prediction. After that for a list of predictions as an `DataObject` list"
   ]
  },
  {
   "cell_type": "markdown",
   "metadata": {},
   "source": [
    "## 5.1. Baseline and illustrative predictions"
   ]
  },
  {
   "cell_type": "markdown",
   "metadata": {},
   "source": [
    "Let's consider `example1`"
   ]
  },
  {
   "cell_type": "code",
   "execution_count": 70,
   "metadata": {},
   "outputs": [
    {
     "data": {
      "text/plain": [
       "0.7682724785401618"
      ]
     },
     "execution_count": 70,
     "metadata": {},
     "output_type": "execute_result"
    }
   ],
   "source": [
    "# Score\n",
    "get_metrics(example1_ground_truth_label, example1_baseline_prediction, output_option=\"final_score\")"
   ]
  },
  {
   "cell_type": "markdown",
   "metadata": {},
   "source": [
    "In addition you can explore the components of this score"
   ]
  },
  {
   "cell_type": "markdown",
   "metadata": {},
   "source": [
    "IoU, $Start_{error}$, Recall, Precision"
   ]
  },
  {
   "cell_type": "code",
   "execution_count": 71,
   "metadata": {},
   "outputs": [
    {
     "data": {
      "text/plain": [
       "0.9999600351690512"
      ]
     },
     "execution_count": 71,
     "metadata": {},
     "output_type": "execute_result"
    }
   ],
   "source": [
    "# Obtaining metrics\n",
    "# IoU\n",
    "get_metrics(example1_ground_truth_label, example1_baseline_prediction, output_option=\"average_iou\")"
   ]
  },
  {
   "cell_type": "code",
   "execution_count": 72,
   "metadata": {},
   "outputs": [
    {
     "data": {
      "text/plain": [
       "0.9048374180359596"
      ]
     },
     "execution_count": 72,
     "metadata": {},
     "output_type": "execute_result"
    }
   ],
   "source": [
    "# NegExpDiffStarts\n",
    "get_metrics(example1_ground_truth_label, example1_baseline_prediction, output_option=\"NegExpDiffStarts\")"
   ]
  },
  {
   "cell_type": "code",
   "execution_count": 73,
   "metadata": {},
   "outputs": [
    {
     "data": {
      "text/plain": [
       "0.23076923076923078"
      ]
     },
     "execution_count": 73,
     "metadata": {},
     "output_type": "execute_result"
    }
   ],
   "source": [
    "# Recall\n",
    "get_metrics(example1_ground_truth_label, example1_baseline_prediction, output_option=\"Recall\")"
   ]
  },
  {
   "cell_type": "code",
   "execution_count": 74,
   "metadata": {},
   "outputs": [
    {
     "data": {
      "text/plain": [
       "1.0"
      ]
     },
     "execution_count": 74,
     "metadata": {},
     "output_type": "execute_result"
    }
   ],
   "source": [
    "# Precision\n",
    "get_metrics(example1_ground_truth_label, example1_baseline_prediction, output_option=\"Precision\")"
   ]
  },
  {
   "cell_type": "markdown",
   "metadata": {},
   "source": [
    "You can obtain the predicted intervals - ground truth intervals matching for each IoU, $|true_{start}- predicted_{start}|$, and $Start_{error}$"
   ]
  },
  {
   "cell_type": "code",
   "execution_count": 75,
   "metadata": {},
   "outputs": [
    {
     "data": {
      "text/plain": [
       "[(55613, 90222, (55612, 90222), 0.9999711066165848, 1, 0.9048374180359595),\n",
       " (101241, 101544, (101240, 101544), 0.9967105263157895, 1, 0.9048374180359595),\n",
       " (256613, 296764, (256612, 296764), 0.9999750946403666, 1, 0.9048374180359595)]"
      ]
     },
     "execution_count": 75,
     "metadata": {},
     "output_type": "execute_result"
    }
   ],
   "source": [
    "# Checking matches\n",
    "# list with tuples (true_start, true_end, best_predicted_interval, best_iou, |true_{start}- predicted_{start}|, Starts_error)\n",
    "assign_intervals_and_calculate_iou(example1_ground_truth_label, example1_baseline_prediction, output_option=\"assigned_pairs\")"
   ]
  },
  {
   "cell_type": "markdown",
   "metadata": {},
   "source": [
    "You can explore `predicted_intervals` without matches (False positives) or actual intervals without matches (False negatives)"
   ]
  },
  {
   "cell_type": "code",
   "execution_count": 76,
   "metadata": {},
   "outputs": [
    {
     "data": {
      "text/plain": [
       "[]"
      ]
     },
     "execution_count": 76,
     "metadata": {},
     "output_type": "execute_result"
    }
   ],
   "source": [
    "# list of False positives\n",
    "assign_intervals_and_calculate_iou(example1_ground_truth_label, example1_baseline_prediction, output_option=\"unassigned_predicted\")"
   ]
  },
  {
   "cell_type": "code",
   "execution_count": 77,
   "metadata": {},
   "outputs": [
    {
     "data": {
      "text/plain": [
       "[(347872, 391785),\n",
       " (401269, 401475),\n",
       " (527030, 568054),\n",
       " (649037, 688258),\n",
       " (741955, 802294),\n",
       " (828360, 865777),\n",
       " (992950, 1019856),\n",
       " (1135027, 1180801),\n",
       " (1250239, 1250499),\n",
       " (1460336, 1520206)]"
      ]
     },
     "execution_count": 77,
     "metadata": {},
     "output_type": "execute_result"
    }
   ],
   "source": [
    "# list of False negatives\n",
    "assign_intervals_and_calculate_iou(example1_ground_truth_label, example1_baseline_prediction, output_option=\"unassigned_real\")"
   ]
  },
  {
   "cell_type": "markdown",
   "metadata": {},
   "source": [
    "With the illutrative prediction `example1_illustrative_prediction`"
   ]
  },
  {
   "cell_type": "code",
   "execution_count": 78,
   "metadata": {},
   "outputs": [
    {
     "data": {
      "text/plain": [
       "0.460854255886264"
      ]
     },
     "execution_count": 78,
     "metadata": {},
     "output_type": "execute_result"
    }
   ],
   "source": [
    "# Final score\n",
    "# IoU+2*NegExpDiffStarts+Recall+0.5*Precision\n",
    "get_metrics(example1_ground_truth_label, example1_illustrative_prediction, output_option=\"final_score\")"
   ]
  },
  {
   "cell_type": "markdown",
   "metadata": {},
   "source": [
    "## 5.2. List of predictions"
   ]
  },
  {
   "cell_type": "markdown",
   "metadata": {},
   "source": [
    "First we register the actual_intervals into the solutions annotated in the `DataObject` list `DataObject_list_examples1_2_baseline_predictions`. The resulting list is called `DataObject_list_examples1_2_baseline_predictions_truth`"
   ]
  },
  {
   "cell_type": "code",
   "execution_count": 79,
   "metadata": {},
   "outputs": [],
   "source": [
    "DataObject_list_examples1_2_baseline_predictions_truth=register_actual_intervals(DataObject_list_examples1_2_baseline_predictions, [example1_ground_truth_label,example2_ground_truth_label])"
   ]
  },
  {
   "cell_type": "markdown",
   "metadata": {},
   "source": [
    "Let's explore it"
   ]
  },
  {
   "cell_type": "code",
   "execution_count": 80,
   "metadata": {},
   "outputs": [
    {
     "data": {
      "text/plain": [
       "'data/train/example1.csv'"
      ]
     },
     "execution_count": 80,
     "metadata": {},
     "output_type": "execute_result"
    }
   ],
   "source": [
    "DataObject_list_examples1_2_baseline_predictions_truth[0].name"
   ]
  },
  {
   "cell_type": "code",
   "execution_count": 81,
   "metadata": {},
   "outputs": [
    {
     "data": {
      "text/plain": [
       "[(55612, 90222), (101240, 101544), (256612, 296764)]"
      ]
     },
     "execution_count": 81,
     "metadata": {},
     "output_type": "execute_result"
    }
   ],
   "source": [
    "DataObject_list_examples1_2_baseline_predictions_truth[0].predicted_intervals"
   ]
  },
  {
   "cell_type": "code",
   "execution_count": 82,
   "metadata": {},
   "outputs": [
    {
     "data": {
      "text/plain": [
       "[(55613, 90222),\n",
       " (101241, 101544),\n",
       " (256613, 296764),\n",
       " (347872, 391785),\n",
       " (401269, 401475),\n",
       " (527030, 568054),\n",
       " (649037, 688258),\n",
       " (741955, 802294),\n",
       " (828360, 865777),\n",
       " (992950, 1019856),\n",
       " (1135027, 1180801),\n",
       " (1250239, 1250499),\n",
       " (1460336, 1520206)]"
      ]
     },
     "execution_count": 82,
     "metadata": {},
     "output_type": "execute_result"
    }
   ],
   "source": [
    "DataObject_list_examples1_2_baseline_predictions_truth[0].actual_intervals"
   ]
  },
  {
   "cell_type": "code",
   "execution_count": 83,
   "metadata": {},
   "outputs": [
    {
     "data": {
      "text/plain": [
       "'data/train/example2.csv'"
      ]
     },
     "execution_count": 83,
     "metadata": {},
     "output_type": "execute_result"
    }
   ],
   "source": [
    "DataObject_list_examples1_2_baseline_predictions_truth[1].name"
   ]
  },
  {
   "cell_type": "code",
   "execution_count": 84,
   "metadata": {},
   "outputs": [
    {
     "data": {
      "text/plain": [
       "[(601307, 601638),\n",
       " (727944, 754252),\n",
       " (845020, 905489),\n",
       " (989330, 1046260),\n",
       " (1147418, 1187292),\n",
       " (1307376, 1338467),\n",
       " (1454844, 1505710)]"
      ]
     },
     "execution_count": 84,
     "metadata": {},
     "output_type": "execute_result"
    }
   ],
   "source": [
    "DataObject_list_examples1_2_baseline_predictions_truth[1].predicted_intervals"
   ]
  },
  {
   "cell_type": "code",
   "execution_count": 85,
   "metadata": {
    "scrolled": true
   },
   "outputs": [
    {
     "data": {
      "text/plain": [
       "[(38942, 70899),\n",
       " (101261, 101574),\n",
       " (246391, 292265),\n",
       " (326942, 354777),\n",
       " (452226, 503362),\n",
       " (528543, 584561),\n",
       " (601308, 601638),\n",
       " (727945, 754252),\n",
       " (845021, 905489),\n",
       " (989331, 1046260),\n",
       " (1147420, 1187292),\n",
       " (1307377, 1338467),\n",
       " (1454845, 1505710)]"
      ]
     },
     "execution_count": 85,
     "metadata": {},
     "output_type": "execute_result"
    }
   ],
   "source": [
    "DataObject_list_examples1_2_baseline_predictions_truth[1].actual_intervals"
   ]
  },
  {
   "cell_type": "markdown",
   "metadata": {},
   "source": [
    "Now we compute the score for this list of predictions.\n",
    "\n",
    "We compute the score for every instance and average them. Default score `final_score` but can get the different components too"
   ]
  },
  {
   "cell_type": "code",
   "execution_count": 86,
   "metadata": {},
   "outputs": [
    {
     "data": {
      "text/plain": [
       "0.8296377768990455"
      ]
     },
     "execution_count": 86,
     "metadata": {},
     "output_type": "execute_result"
    }
   ],
   "source": [
    "# Score: Average of performance score across all the instances\n",
    "get_avg_metrics(DataObject_list_examples1_2_baseline_predictions_truth)"
   ]
  },
  {
   "cell_type": "code",
   "execution_count": 87,
   "metadata": {},
   "outputs": [
    {
     "data": {
      "text/plain": [
       "0.9999649725811592"
      ]
     },
     "execution_count": 87,
     "metadata": {},
     "output_type": "execute_result"
    }
   ],
   "source": [
    "# IoU: Average of performance score across all the instances\n",
    "get_avg_metrics(DataObject_list_examples1_2_baseline_predictions_truth,\"average_iou\")"
   ]
  },
  {
   "cell_type": "code",
   "execution_count": 88,
   "metadata": {},
   "outputs": [
    {
     "data": {
      "text/plain": [
       "0.8986869419675325"
      ]
     },
     "execution_count": 88,
     "metadata": {},
     "output_type": "execute_result"
    }
   ],
   "source": [
    "# NegExpDiffStarts: Average of performance score across all the instances\n",
    "get_avg_metrics(DataObject_list_examples1_2_baseline_predictions_truth,\"NegExpDiffStarts\")"
   ]
  },
  {
   "cell_type": "code",
   "execution_count": 89,
   "metadata": {},
   "outputs": [
    {
     "data": {
      "text/plain": [
       "0.3846153846153846"
      ]
     },
     "execution_count": 89,
     "metadata": {},
     "output_type": "execute_result"
    }
   ],
   "source": [
    "# Recall: Average of performance score across all the instances\n",
    "get_avg_metrics(DataObject_list_examples1_2_baseline_predictions_truth,\"Recall\")"
   ]
  },
  {
   "cell_type": "code",
   "execution_count": 90,
   "metadata": {},
   "outputs": [
    {
     "data": {
      "text/plain": [
       "1.0"
      ]
     },
     "execution_count": 90,
     "metadata": {},
     "output_type": "execute_result"
    }
   ],
   "source": [
    "# Precision: Average of performance score across all the instances\n",
    "get_avg_metrics(DataObject_list_examples1_2_baseline_predictions_truth,\"Precision\")"
   ]
  },
  {
   "cell_type": "markdown",
   "metadata": {},
   "source": [
    "#### Now we evaluate predictions with the simple trained model "
   ]
  },
  {
   "cell_type": "markdown",
   "metadata": {},
   "source": [
    "First let's consider `predictionDataObjects`, the model predictions for `example1` and `example2` data, same used for training the model"
   ]
  },
  {
   "cell_type": "markdown",
   "metadata": {},
   "source": [
    "We register the ground truth labels in `actual_intervals`"
   ]
  },
  {
   "cell_type": "code",
   "execution_count": 91,
   "metadata": {},
   "outputs": [],
   "source": [
    "# Results with trained simple model\n",
    "# Annotating actual intervals\n",
    "ModelSimpleDataObjects=register_actual_intervals(predictionDataObjects, [example1_ground_truth_label,example2_ground_truth_label])"
   ]
  },
  {
   "cell_type": "markdown",
   "metadata": {},
   "source": [
    "Now we compute the score for these predictions"
   ]
  },
  {
   "cell_type": "markdown",
   "metadata": {},
   "source": [
    "Average results"
   ]
  },
  {
   "cell_type": "markdown",
   "metadata": {},
   "source": [
    "Score"
   ]
  },
  {
   "cell_type": "code",
   "execution_count": 92,
   "metadata": {},
   "outputs": [
    {
     "data": {
      "text/plain": [
       "0.4803826481603831"
      ]
     },
     "execution_count": 92,
     "metadata": {},
     "output_type": "execute_result"
    }
   ],
   "source": [
    "# Score: Average of performance score across all the instances\n",
    "get_avg_metrics(ModelSimpleDataObjects)"
   ]
  },
  {
   "cell_type": "markdown",
   "metadata": {},
   "source": [
    "You can go inside each well"
   ]
  },
  {
   "cell_type": "markdown",
   "metadata": {},
   "source": [
    "Results for example 1"
   ]
  },
  {
   "cell_type": "code",
   "execution_count": 93,
   "metadata": {},
   "outputs": [
    {
     "data": {
      "text/plain": [
       "0.5341657552381754"
      ]
     },
     "execution_count": 93,
     "metadata": {},
     "output_type": "execute_result"
    }
   ],
   "source": [
    "get_metrics(ModelSimpleDataObjects[0].actual_intervals,ModelSimpleDataObjects[0].predicted_intervals)"
   ]
  },
  {
   "cell_type": "code",
   "execution_count": 94,
   "metadata": {},
   "outputs": [
    {
     "name": "stdout",
     "output_type": "stream",
     "text": [
      "[(55613, 90222, (87471.0, 101241.0), 0.060291926010344526, 31858.0, 0.0), (256613, 296764, (229799.0, 294765.0), 0.5697304562084671, 26814.0, 0.0), (347872, 391785, (347872.0, 419399.0), 0.6139359961972402, 0.0, 1.0), (527030, 568054, (506399.0, 568054.0), 0.6653799367447896, 20631.0, 0.0), (649037, 688258, (623999.0, 688258.0), 0.6103580821363545, 25038.0, 0.0), (741955, 802294, (741955.0, 865777.0), 0.4873043562533314, 0.0, 1.0), (992950, 1019856, (992950.0, 1019856.0), 1.0, 0.0, 1.0), (1135027, 1180801, (1117199.0, 1180801.0), 0.7196943492343008, 17828.0, 0.0), (1250239, 1250499, (1250239.0, 1355399.0), 0.002472422974515025, 0.0, 1.0), (1460336, 1520206, (1460336.0, 1520206.0), 1.0, 0.0, 1.0)]\n"
     ]
    }
   ],
   "source": [
    "print(assign_intervals_and_calculate_iou(ModelSimpleDataObjects[0].actual_intervals, ModelSimpleDataObjects[0].predicted_intervals, output_option=\"assigned_pairs\"))"
   ]
  },
  {
   "cell_type": "markdown",
   "metadata": {},
   "source": [
    "Results for example 2"
   ]
  },
  {
   "cell_type": "code",
   "execution_count": 95,
   "metadata": {},
   "outputs": [
    {
     "data": {
      "text/plain": [
       "0.42659954108259074"
      ]
     },
     "execution_count": 95,
     "metadata": {},
     "output_type": "execute_result"
    }
   ],
   "source": [
    "get_metrics(ModelSimpleDataObjects[1].actual_intervals,ModelSimpleDataObjects[1].predicted_intervals)"
   ]
  },
  {
   "cell_type": "code",
   "execution_count": 96,
   "metadata": {},
   "outputs": [
    {
     "data": {
      "text/plain": [
       "[(38942, 70899, (64190.0, 101261.0), 0.10765577111314366, 25248.0, 0.0),\n",
       " (246391, 292265, (256495.0, 344394.0), 0.3649888268726468, 10104.0, 0.0),\n",
       " (326942, 354777, (344394.0, 374399.0), 0.21878753397812756, 17452.0, 0.0),\n",
       " (452226, 503362, (374399.0, 503362.0), 0.3965168304087219, 77827.0, 0.0),\n",
       " (528543, 584561, (528543.0, 620999.0), 0.6058882062819071, 0.0, 1.0),\n",
       " (727945, 754252, (674999.0, 752158.0), 0.3055152486341211, 52946.0, 0.0),\n",
       " (845021, 905489, (793199.0, 905489.0), 0.5384985305904355, 51822.0, 0.0),\n",
       " (989331, 1046260, (934799.0, 1028034.0), 0.3472335615147899, 54532.0, 0.0),\n",
       " (1147420,\n",
       "  1187292,\n",
       "  (1147419.0, 1174667.0),\n",
       "  0.6833446191658515,\n",
       "  1.0,\n",
       "  0.9048374180359595),\n",
       " (1307377, 1338467, (1278599.0, 1334848.0), 0.4588594908799359, 28778.0, 0.0),\n",
       " (1454845,\n",
       "  1505710,\n",
       "  (1454399.0, 1504537.0),\n",
       "  0.9684473114926624,\n",
       "  446.0,\n",
       "  4.2703759159206115e-20)]"
      ]
     },
     "execution_count": 96,
     "metadata": {},
     "output_type": "execute_result"
    }
   ],
   "source": [
    "assign_intervals_and_calculate_iou(ModelSimpleDataObjects[1].actual_intervals, ModelSimpleDataObjects[1].predicted_intervals, output_option=\"assigned_pairs\")"
   ]
  },
  {
   "cell_type": "markdown",
   "metadata": {},
   "source": [
    "Now we consider `predictionDataObjects_test` with predictions for a list of tests: [test1, test2 and test3]"
   ]
  },
  {
   "cell_type": "markdown",
   "metadata": {},
   "source": [
    "We register the ground truth labels in `actual_intervals`"
   ]
  },
  {
   "cell_type": "code",
   "execution_count": 97,
   "metadata": {},
   "outputs": [],
   "source": [
    "submission_dict_tests1_2_3 = create_submission_dictionary(predictionDataObjects_test)\n",
    "actual_intervals_tests1_2_3=get_actual_list_intervals_files(submission_dict_tests1_2_3)\n",
    "actual_intervals_list_tests1_2_3=[]\n",
    "for i in range(0,len(actual_intervals_tests1_2_3)):\n",
    "    name=actual_intervals_tests1_2_3[i]\n",
    "    df_intervals_tests1_2_3=pd.read_csv(name)\n",
    "    intervals_tests1_2_3=list(zip(df_intervals_tests1_2_3.start,df_intervals_tests1_2_3.stop))\n",
    "    actual_intervals_list_tests1_2_3.append(intervals_tests1_2_3)\n",
    "ModelSimpleDataObjects_test=register_actual_intervals(predictionDataObjects_test,actual_intervals_list_tests1_2_3)"
   ]
  },
  {
   "cell_type": "markdown",
   "metadata": {},
   "source": [
    "Now we compute the score for this list of tests"
   ]
  },
  {
   "cell_type": "markdown",
   "metadata": {},
   "source": [
    "Average results"
   ]
  },
  {
   "cell_type": "markdown",
   "metadata": {},
   "source": [
    "Score"
   ]
  },
  {
   "cell_type": "code",
   "execution_count": 98,
   "metadata": {},
   "outputs": [
    {
     "data": {
      "text/plain": [
       "0.4291328029102746"
      ]
     },
     "execution_count": 98,
     "metadata": {},
     "output_type": "execute_result"
    }
   ],
   "source": [
    "# Score: Average of performance score across all the instances\n",
    "get_avg_metrics(ModelSimpleDataObjects_test)"
   ]
  },
  {
   "cell_type": "markdown",
   "metadata": {},
   "source": [
    "# 6. Submissions evaluation examples"
   ]
  },
  {
   "cell_type": "markdown",
   "metadata": {},
   "source": [
    "First is a function to process submission files"
   ]
  },
  {
   "cell_type": "code",
   "execution_count": 99,
   "metadata": {},
   "outputs": [],
   "source": [
    "def dict2DataObjectList(submission_dict: dict[str, List[tuple]]) -> List[DataObject]:\n",
    "    \"\"\"\n",
    "    Converts a dictionary of name-predicted_intervals pairs to a list of DataObject instances.\n",
    "\n",
    "    Args:\n",
    "        submission_dict: A dictionary with names as keys and predicted intervals as values.\n",
    "\n",
    "    Returns:\n",
    "        A list of DataObject objects with corresponding names and predicted intervals.\n",
    "    \"\"\"\n",
    "\n",
    "    data_object_list = []\n",
    "    for name, predicted_intervals in submission_dict.items():\n",
    "        data_object = DataObject(name, None)  # Assuming you don't have actual data in the dictionary\n",
    "        data_object.assign_intervals(predicted_intervals, is_actual=False)\n",
    "        data_object_list.append(data_object)\n",
    "\n",
    "    return data_object_list"
   ]
  },
  {
   "cell_type": "code",
   "execution_count": 100,
   "metadata": {},
   "outputs": [],
   "source": [
    "def register_actual_intervals_brackets(solutions: List[DataObject], actual_intervals: List[List[tuple]]) -> List[DataObject]:\n",
    "    \"\"\"\n",
    "    Adds actual intervals to each DataObject in the solutions list.\n",
    "\n",
    "    Args:\n",
    "        solutions: A list of DataObject instances.\n",
    "        actual_intervals: A list of lists of actual intervals (start, stop) corresponding to each DataObject.\n",
    "\n",
    "    Returns:\n",
    "        A list of DataObject instances with updated actual_intervals attributes.\n",
    "    \"\"\"\n",
    "\n",
    "    if len(solutions) != len(actual_intervals):\n",
    "        raise ValueError(\"Number of solutions and actual intervals must be equal.\")\n",
    "\n",
    "    for solution, intervals in zip(solutions, actual_intervals):\n",
    "        solution.actual_intervals = intervals\n",
    "    \n",
    "    def brackets2parentheses(list_intervals):\n",
    "        list_intervals_paretheses=[]\n",
    "        for interval in list_intervals:\n",
    "            list_intervals_paretheses.append(tuple(interval))\n",
    "        return list_intervals_paretheses\n",
    "    \n",
    "    def brackets2parenthesesPredictions(solutions: List[DataObject]):\n",
    "        results = solutions.copy()\n",
    "        for i in range(0,len(solutions)):\n",
    "            results[i].predicted_intervals=brackets2parentheses(solutions[i].predicted_intervals)\n",
    "        return results\n",
    "\n",
    "    results=brackets2parenthesesPredictions(solutions)\n",
    "    \n",
    "    return results"
   ]
  },
  {
   "cell_type": "code",
   "execution_count": 101,
   "metadata": {},
   "outputs": [],
   "source": [
    "def get_score_from_submission_file(submission_file=\"/sample_submissions/submission_test.json\",metric_option=\"final_score\"):\n",
    "    \"\"\"\n",
    "    Read a submitted solution and return the average score contrasting with actual solutions on the associated filenames\n",
    "    \n",
    "    Args:\n",
    "        submission_file: A submitted solution in json format\n",
    "        metric_option: String specifying the desired metric to compute, valid options are:\n",
    "                       final_score, average_iou, NegExpDiffStarts, Recall, or Precision.\n",
    "                       \n",
    "    Returns:\n",
    "        The average of the specified metric across all predicted intervals in the submitted solution.\n",
    "    \"\"\"\n",
    "    f = open(submission_file)\n",
    "    submitted_dict = json.load(f)\n",
    "    actual_intervals=get_actual_list_intervals_files(submitted_dict)\n",
    "    solutions=dict2DataObjectList(submitted_dict)\n",
    "    actual_intervals_list=[]\n",
    "    for i in range(0,len(actual_intervals)):\n",
    "        name=actual_intervals[i]\n",
    "        df_intervals=pd.read_csv(name)\n",
    "        intervals=list(zip(df_intervals.start,df_intervals.stop))\n",
    "        actual_intervals_list.append(intervals)\n",
    "    results=register_actual_intervals_brackets(solutions,actual_intervals_list)\n",
    "    return get_avg_metrics(results, metric_option)"
   ]
  },
  {
   "cell_type": "markdown",
   "metadata": {},
   "source": [
    "Now generate a submission file. In this case predictions for the well data files test1, test2, test3"
   ]
  },
  {
   "cell_type": "markdown",
   "metadata": {},
   "source": [
    "List of well data filenames for which we predicted intervals: `data_files_test`"
   ]
  },
  {
   "cell_type": "code",
   "execution_count": 102,
   "metadata": {},
   "outputs": [
    {
     "data": {
      "text/plain": [
       "['data/train/test1.csv', 'data/train/test2.csv', 'data/train/test3.csv']"
      ]
     },
     "execution_count": 102,
     "metadata": {},
     "output_type": "execute_result"
    }
   ],
   "source": [
    "data_files_test"
   ]
  },
  {
   "cell_type": "markdown",
   "metadata": {},
   "source": [
    "Predictions for these data wells in `predictionDataObjects_test`"
   ]
  },
  {
   "cell_type": "markdown",
   "metadata": {},
   "source": [
    "Generating and saving the submission file"
   ]
  },
  {
   "cell_type": "code",
   "execution_count": 103,
   "metadata": {},
   "outputs": [],
   "source": [
    "sample_submission_generator(predictionDataObjects_test,\"sample_submissions/submission_tests1_2_3.json\")"
   ]
  },
  {
   "cell_type": "markdown",
   "metadata": {},
   "source": [
    "Now compute the average score for predictions across the analyzed well data files "
   ]
  },
  {
   "cell_type": "code",
   "execution_count": 104,
   "metadata": {},
   "outputs": [
    {
     "data": {
      "text/plain": [
       "0.4291328029102746"
      ]
     },
     "execution_count": 104,
     "metadata": {},
     "output_type": "execute_result"
    }
   ],
   "source": [
    "get_score_from_submission_file(\"sample_submissions/submission_tests1_2_3.json\")"
   ]
  },
  {
   "cell_type": "markdown",
   "metadata": {},
   "source": [
    "Calculate the score for other submissions in `sample_submissions` "
   ]
  },
  {
   "cell_type": "markdown",
   "metadata": {},
   "source": [
    "Baseline solutions for `example1` and `example2`"
   ]
  },
  {
   "cell_type": "code",
   "execution_count": 105,
   "metadata": {},
   "outputs": [
    {
     "data": {
      "text/plain": [
       "0.8296377768990455"
      ]
     },
     "execution_count": 105,
     "metadata": {},
     "output_type": "execute_result"
    }
   ],
   "source": [
    "get_score_from_submission_file(\"sample_submissions/submission_examples1_2_baseline_predictions.json\")"
   ]
  },
  {
   "cell_type": "markdown",
   "metadata": {},
   "source": [
    "Visual guessing for `example1` and for `example2`"
   ]
  },
  {
   "cell_type": "code",
   "execution_count": 106,
   "metadata": {},
   "outputs": [
    {
     "data": {
      "text/plain": [
       "0.5374023784999048"
      ]
     },
     "execution_count": 106,
     "metadata": {},
     "output_type": "execute_result"
    }
   ],
   "source": [
    "get_score_from_submission_file(\"sample_submissions/submission_test2.json\")"
   ]
  },
  {
   "cell_type": "markdown",
   "metadata": {},
   "source": [
    "Visual guessing for `example1` and improved visual guessing for `example2`"
   ]
  },
  {
   "cell_type": "code",
   "execution_count": 107,
   "metadata": {},
   "outputs": [
    {
     "data": {
      "text/plain": [
       "0.5991335251767365"
      ]
     },
     "execution_count": 107,
     "metadata": {},
     "output_type": "execute_result"
    }
   ],
   "source": [
    "get_score_from_submission_file(\"sample_submissions/submission_test3.json\")"
   ]
  },
  {
   "cell_type": "markdown",
   "metadata": {},
   "source": [
    "Baseline solution for `example1` and visual guessing for `example2`"
   ]
  },
  {
   "cell_type": "code",
   "execution_count": 108,
   "metadata": {},
   "outputs": [
    {
     "data": {
      "text/plain": [
       "0.6911114898268538"
      ]
     },
     "execution_count": 108,
     "metadata": {},
     "output_type": "execute_result"
    }
   ],
   "source": [
    "get_score_from_submission_file(\"sample_submissions/submission_test1-2.json\")"
   ]
  },
  {
   "cell_type": "markdown",
   "metadata": {},
   "source": [
    "Visual guessing for `example1` and baseline solution for `example2`"
   ]
  },
  {
   "cell_type": "code",
   "execution_count": 109,
   "metadata": {},
   "outputs": [
    {
     "data": {
      "text/plain": [
       "0.6759286655720966"
      ]
     },
     "execution_count": 109,
     "metadata": {},
     "output_type": "execute_result"
    }
   ],
   "source": [
    "get_score_from_submission_file(\"sample_submissions/submission_test2-1.json\")"
   ]
  },
  {
   "cell_type": "markdown",
   "metadata": {},
   "source": [
    "### A perfect match"
   ]
  },
  {
   "cell_type": "code",
   "execution_count": 110,
   "metadata": {},
   "outputs": [
    {
     "data": {
      "text/plain": [
       "['data/train/example1.csv', 'data/train/example2.csv']"
      ]
     },
     "execution_count": 110,
     "metadata": {},
     "output_type": "execute_result"
    }
   ],
   "source": [
    "data_files"
   ]
  },
  {
   "cell_type": "code",
   "execution_count": 111,
   "metadata": {},
   "outputs": [
    {
     "data": {
      "text/plain": [
       "[[(55613, 90222),\n",
       "  (101241, 101544),\n",
       "  (256613, 296764),\n",
       "  (347872, 391785),\n",
       "  (401269, 401475),\n",
       "  (527030, 568054),\n",
       "  (649037, 688258),\n",
       "  (741955, 802294),\n",
       "  (828360, 865777),\n",
       "  (992950, 1019856),\n",
       "  (1135027, 1180801),\n",
       "  (1250239, 1250499),\n",
       "  (1460336, 1520206)],\n",
       " [(38942, 70899),\n",
       "  (101261, 101574),\n",
       "  (246391, 292265),\n",
       "  (326942, 354777),\n",
       "  (452226, 503362),\n",
       "  (528543, 584561),\n",
       "  (601308, 601638),\n",
       "  (727945, 754252),\n",
       "  (845021, 905489),\n",
       "  (989331, 1046260),\n",
       "  (1147420, 1187292),\n",
       "  (1307377, 1338467),\n",
       "  (1454845, 1505710)]]"
      ]
     },
     "execution_count": 111,
     "metadata": {},
     "output_type": "execute_result"
    }
   ],
   "source": [
    "ground_truth_labels"
   ]
  },
  {
   "cell_type": "code",
   "execution_count": 112,
   "metadata": {},
   "outputs": [],
   "source": [
    "perfect_intervals_examples1_2=add_intervals(data_files,ground_truth_labels,is_actual=False)"
   ]
  },
  {
   "cell_type": "markdown",
   "metadata": {},
   "source": [
    "Generating and saving the submission file"
   ]
  },
  {
   "cell_type": "code",
   "execution_count": 113,
   "metadata": {},
   "outputs": [],
   "source": [
    "sample_submission_generator(perfect_intervals_examples1_2,\"sample_submissions/submission_perfect_examples1_2.json\")"
   ]
  },
  {
   "cell_type": "markdown",
   "metadata": {},
   "source": [
    "Reading the submission and computing the score"
   ]
  },
  {
   "cell_type": "code",
   "execution_count": 114,
   "metadata": {},
   "outputs": [
    {
     "data": {
      "text/plain": [
       "1.0"
      ]
     },
     "execution_count": 114,
     "metadata": {},
     "output_type": "execute_result"
    }
   ],
   "source": [
    "get_score_from_submission_file(\"sample_submissions/submission_perfect_examples1_2.json\")"
   ]
  },
  {
   "cell_type": "markdown",
   "metadata": {},
   "source": [
    "### Wrong predictions: (0,len(data)) interval"
   ]
  },
  {
   "cell_type": "code",
   "execution_count": 115,
   "metadata": {},
   "outputs": [],
   "source": [
    "wrong_0_len_interval_examples1_2=add_intervals(data_files,[[(0,len(example1))],[(0,len(example2))]],is_actual=False)"
   ]
  },
  {
   "cell_type": "markdown",
   "metadata": {},
   "source": [
    "Generating and saving the submission file"
   ]
  },
  {
   "cell_type": "code",
   "execution_count": 116,
   "metadata": {},
   "outputs": [],
   "source": [
    "sample_submission_generator(wrong_0_len_interval_examples1_2,\"sample_submissions/submission_wrong_0_len_interval_examples1_2.json\")"
   ]
  },
  {
   "cell_type": "code",
   "execution_count": 117,
   "metadata": {},
   "outputs": [
    {
     "data": {
      "text/plain": [
       "0.1505768135513972"
      ]
     },
     "execution_count": 117,
     "metadata": {},
     "output_type": "execute_result"
    }
   ],
   "source": [
    "get_score_from_submission_file(\"sample_submissions/submission_wrong_0_len_interval_examples1_2.json\")"
   ]
  },
  {
   "cell_type": "markdown",
   "metadata": {},
   "source": [
    "### Wrong predictions: no intersecting interval"
   ]
  },
  {
   "cell_type": "code",
   "execution_count": 118,
   "metadata": {},
   "outputs": [],
   "source": [
    "wrong_no_intersecting_interval_examples1_2=add_intervals(data_files,[[(580000,630000)],[(650000,700000)]],is_actual=False)"
   ]
  },
  {
   "cell_type": "markdown",
   "metadata": {},
   "source": [
    "Generating and saving the submission file"
   ]
  },
  {
   "cell_type": "code",
   "execution_count": 119,
   "metadata": {},
   "outputs": [],
   "source": [
    "sample_submission_generator(wrong_no_intersecting_interval_examples1_2,\"sample_submissions/submission_wrong_no_intersecting_interval_examples1_2.json\")"
   ]
  },
  {
   "cell_type": "code",
   "execution_count": 120,
   "metadata": {},
   "outputs": [
    {
     "data": {
      "text/plain": [
       "0.0"
      ]
     },
     "execution_count": 120,
     "metadata": {},
     "output_type": "execute_result"
    }
   ],
   "source": [
    "get_score_from_submission_file(\"sample_submissions/submission_wrong_no_intersecting_interval_examples1_2.json\")"
   ]
  }
 ],
 "metadata": {
  "celltoolbar": "Raw Cell Format",
  "kernelspec": {
   "display_name": "Python 3 (ipykernel)",
   "language": "python",
   "name": "python3"
  },
  "language_info": {
   "codemirror_mode": {
    "name": "ipython",
    "version": 3
   },
   "file_extension": ".py",
   "mimetype": "text/x-python",
   "name": "python",
   "nbconvert_exporter": "python",
   "pygments_lexer": "ipython3",
   "version": "3.11.4"
  }
 },
 "nbformat": 4,
 "nbformat_minor": 4
}
